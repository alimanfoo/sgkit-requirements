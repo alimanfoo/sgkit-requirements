{
 "cells": [
  {
   "cell_type": "code",
   "execution_count": 1,
   "metadata": {},
   "outputs": [],
   "source": [
    "import numpy as np\n",
    "import dask.array as da\n",
    "import allel\n",
    "import intake\n",
    "import matplotlib.pyplot as plt\n",
    "%matplotlib inline"
   ]
  },
  {
   "cell_type": "markdown",
   "metadata": {},
   "source": [
    "## Cluster setup"
   ]
  },
  {
   "cell_type": "code",
   "execution_count": 2,
   "metadata": {},
   "outputs": [
    {
     "name": "stderr",
     "output_type": "stream",
     "text": [
      "distributed.scheduler - INFO - Clear task state\n",
      "distributed.scheduler - INFO -   Scheduler at:   tcp://10.34.67.10:44101\n",
      "distributed.scheduler - INFO -   dashboard at:                     :8787\n",
      "distributed.scheduler - INFO - Receive client connection: Client-6b590b8c-c6bc-11ea-80ae-e24c13b2ce58\n",
      "distributed.core - INFO - Starting established connection\n"
     ]
    },
    {
     "data": {
      "text/html": [
       "<table style=\"border: 2px solid white;\">\n",
       "<tr>\n",
       "<td style=\"vertical-align: top; border: 0px solid white\">\n",
       "<h3 style=\"text-align: left;\">Client</h3>\n",
       "<ul style=\"text-align: left; list-style: none; margin: 0; padding: 0;\">\n",
       "  <li><b>Scheduler: </b>tcp://10.34.67.10:44101</li>\n",
       "  <li><b>Dashboard: </b><a href='/user/alimanfoo@googlemail.com/proxy/8787/status' target='_blank'>/user/alimanfoo@googlemail.com/proxy/8787/status</a>\n",
       "</ul>\n",
       "</td>\n",
       "<td style=\"vertical-align: top; border: 0px solid white\">\n",
       "<h3 style=\"text-align: left;\">Cluster</h3>\n",
       "<ul style=\"text-align: left; list-style:none; margin: 0; padding: 0;\">\n",
       "  <li><b>Workers: </b>0</li>\n",
       "  <li><b>Cores: </b>0</li>\n",
       "  <li><b>Memory: </b>0 B</li>\n",
       "</ul>\n",
       "</td>\n",
       "</tr>\n",
       "</table>"
      ],
      "text/plain": [
       "<Client: 'tcp://10.34.67.10:44101' processes=0 threads=0, memory=0 B>"
      ]
     },
     "execution_count": 2,
     "metadata": {},
     "output_type": "execute_result"
    },
    {
     "name": "stderr",
     "output_type": "stream",
     "text": [
      "distributed.scheduler - INFO - Register tcp://10.34.78.3:43781\n",
      "distributed.scheduler - INFO - Starting worker compute stream, tcp://10.34.78.3:43781\n",
      "distributed.core - INFO - Starting established connection\n",
      "distributed.scheduler - INFO - Register tcp://10.34.82.3:37025\n",
      "distributed.scheduler - INFO - Starting worker compute stream, tcp://10.34.82.3:37025\n",
      "distributed.core - INFO - Starting established connection\n",
      "distributed.scheduler - INFO - Register tcp://10.34.73.4:42527\n",
      "distributed.scheduler - INFO - Starting worker compute stream, tcp://10.34.73.4:42527\n",
      "distributed.core - INFO - Starting established connection\n",
      "distributed.scheduler - INFO - Register tcp://10.34.84.3:46475\n",
      "distributed.scheduler - INFO - Starting worker compute stream, tcp://10.34.84.3:46475\n",
      "distributed.core - INFO - Starting established connection\n",
      "distributed.scheduler - INFO - Register tcp://10.34.79.3:38927\n",
      "distributed.scheduler - INFO - Starting worker compute stream, tcp://10.34.79.3:38927\n",
      "distributed.core - INFO - Starting established connection\n",
      "distributed.scheduler - INFO - Register tcp://10.34.83.3:44555\n",
      "distributed.scheduler - INFO - Starting worker compute stream, tcp://10.34.83.3:44555\n",
      "distributed.core - INFO - Starting established connection\n",
      "distributed.scheduler - INFO - Register tcp://10.34.85.3:33895\n",
      "distributed.scheduler - INFO - Starting worker compute stream, tcp://10.34.85.3:33895\n",
      "distributed.core - INFO - Starting established connection\n",
      "distributed.scheduler - INFO - Register tcp://10.34.77.3:33597\n",
      "distributed.scheduler - INFO - Starting worker compute stream, tcp://10.34.77.3:33597\n",
      "distributed.core - INFO - Starting established connection\n",
      "distributed.scheduler - INFO - Register tcp://10.34.81.3:33457\n",
      "distributed.scheduler - INFO - Starting worker compute stream, tcp://10.34.81.3:33457\n",
      "distributed.core - INFO - Starting established connection\n",
      "distributed.scheduler - INFO - Register tcp://10.34.80.3:35553\n",
      "distributed.scheduler - INFO - Starting worker compute stream, tcp://10.34.80.3:35553\n",
      "distributed.core - INFO - Starting established connection\n"
     ]
    }
   ],
   "source": [
    "from dask_kubernetes import KubeCluster\n",
    "from dask.distributed import Client\n",
    "cluster = KubeCluster(n_workers=10)\n",
    "client = Client(cluster)\n",
    "client"
   ]
  },
  {
   "cell_type": "markdown",
   "metadata": {},
   "source": [
    "## Data setup"
   ]
  },
  {
   "cell_type": "code",
   "execution_count": 3,
   "metadata": {},
   "outputs": [],
   "source": [
    "# open data catalog for accessing data on google cloud\n",
    "cat = intake.open_catalog('https://malariagen.github.io/intake/gcs.yml')"
   ]
  },
  {
   "cell_type": "code",
   "execution_count": 4,
   "metadata": {},
   "outputs": [
    {
     "data": {
      "text/plain": [
       "['samples', 'snps', 'snps_pass', 'snps_pass_biallelic', 'haps']"
      ]
     },
     "execution_count": 4,
     "metadata": {},
     "output_type": "execute_result"
    }
   ],
   "source": [
    "# Anopheles gambiae 1000 genomes phase 2\n",
    "list(cat.ag2)"
   ]
  },
  {
   "cell_type": "code",
   "execution_count": 5,
   "metadata": {},
   "outputs": [
    {
     "data": {
      "text/plain": [
       "<zarr.hierarchy.Group '/' read-only>"
      ]
     },
     "execution_count": 5,
     "metadata": {},
     "output_type": "execute_result"
    }
   ],
   "source": [
    "callset = cat.ag2.snps_pass.to_zarr()\n",
    "callset"
   ]
  },
  {
   "cell_type": "code",
   "execution_count": 6,
   "metadata": {},
   "outputs": [
    {
     "data": {
      "text/html": [
       "<div class=\"allel allel-DisplayAs2D\"><span>&lt;GenotypeDaskArray shape=(14481509, 1142, 2) dtype=int8&gt;</span><table><thead><tr><th></th><th style=\"text-align: center\">0</th><th style=\"text-align: center\">1</th><th style=\"text-align: center\">2</th><th style=\"text-align: center\">3</th><th style=\"text-align: center\">4</th><th style=\"text-align: center\">...</th><th style=\"text-align: center\">1137</th><th style=\"text-align: center\">1138</th><th style=\"text-align: center\">1139</th><th style=\"text-align: center\">1140</th><th style=\"text-align: center\">1141</th></tr></thead><tbody><tr><th style=\"text-align: center; background-color: white; border-right: 1px solid black; \">0</th><td style=\"text-align: center\">0/0</td><td style=\"text-align: center\">0/0</td><td style=\"text-align: center\">0/0</td><td style=\"text-align: center\">0/0</td><td style=\"text-align: center\">0/0</td><td style=\"text-align: center\">...</td><td style=\"text-align: center\">0/0</td><td style=\"text-align: center\">0/0</td><td style=\"text-align: center\">0/0</td><td style=\"text-align: center\">0/0</td><td style=\"text-align: center\">0/0</td></tr><tr><th style=\"text-align: center; background-color: white; border-right: 1px solid black; \">1</th><td style=\"text-align: center\">0/0</td><td style=\"text-align: center\">0/0</td><td style=\"text-align: center\">0/0</td><td style=\"text-align: center\">0/0</td><td style=\"text-align: center\">0/0</td><td style=\"text-align: center\">...</td><td style=\"text-align: center\">0/0</td><td style=\"text-align: center\">0/0</td><td style=\"text-align: center\">0/0</td><td style=\"text-align: center\">0/0</td><td style=\"text-align: center\">0/0</td></tr><tr><th style=\"text-align: center; background-color: white; border-right: 1px solid black; \">2</th><td style=\"text-align: center\">0/0</td><td style=\"text-align: center\">0/0</td><td style=\"text-align: center\">0/0</td><td style=\"text-align: center\">0/0</td><td style=\"text-align: center\">0/0</td><td style=\"text-align: center\">...</td><td style=\"text-align: center\">0/0</td><td style=\"text-align: center\">0/0</td><td style=\"text-align: center\">0/0</td><td style=\"text-align: center\">0/0</td><td style=\"text-align: center\">0/0</td></tr><tr><th style=\"text-align: center; background-color: white; border-right: 1px solid black; \">...</th><td style=\"text-align: center\" colspan=\"12\">...</td></tr><tr><th style=\"text-align: center; background-color: white; border-right: 1px solid black; \">14481506</th><td style=\"text-align: center\">0/0</td><td style=\"text-align: center\">0/0</td><td style=\"text-align: center\">0/0</td><td style=\"text-align: center\">0/0</td><td style=\"text-align: center\">0/0</td><td style=\"text-align: center\">...</td><td style=\"text-align: center\">0/0</td><td style=\"text-align: center\">0/0</td><td style=\"text-align: center\">0/0</td><td style=\"text-align: center\">0/0</td><td style=\"text-align: center\">0/0</td></tr><tr><th style=\"text-align: center; background-color: white; border-right: 1px solid black; \">14481507</th><td style=\"text-align: center\">0/0</td><td style=\"text-align: center\">0/0</td><td style=\"text-align: center\">0/0</td><td style=\"text-align: center\">0/0</td><td style=\"text-align: center\">0/0</td><td style=\"text-align: center\">...</td><td style=\"text-align: center\">0/0</td><td style=\"text-align: center\">0/0</td><td style=\"text-align: center\">0/0</td><td style=\"text-align: center\">0/0</td><td style=\"text-align: center\">0/0</td></tr><tr><th style=\"text-align: center; background-color: white; border-right: 1px solid black; \">14481508</th><td style=\"text-align: center\">0/0</td><td style=\"text-align: center\">0/0</td><td style=\"text-align: center\">0/0</td><td style=\"text-align: center\">0/0</td><td style=\"text-align: center\">0/0</td><td style=\"text-align: center\">...</td><td style=\"text-align: center\">0/0</td><td style=\"text-align: center\">0/0</td><td style=\"text-align: center\">0/0</td><td style=\"text-align: center\">0/0</td><td style=\"text-align: center\">0/0</td></tr></tbody></table></div>"
      ],
      "text/plain": [
       "<GenotypeDaskArray shape=(14481509, 1142, 2) dtype=int8>"
      ]
     },
     "execution_count": 6,
     "metadata": {},
     "output_type": "execute_result"
    }
   ],
   "source": [
    "# inspect genotypes from a single chromosome arm (3R)\n",
    "gt = allel.GenotypeDaskArray(callset['3R/calldata/GT'])\n",
    "gt"
   ]
  },
  {
   "cell_type": "code",
   "execution_count": 7,
   "metadata": {},
   "outputs": [
    {
     "name": "stderr",
     "output_type": "stream",
     "text": [
      "/opt/conda/lib/python3.7/site-packages/dask/dataframe/utils.py:14: FutureWarning: pandas.util.testing is deprecated. Use the functions in the public API at pandas.testing instead.\n",
      "  import pandas.util.testing as tm\n"
     ]
    },
    {
     "data": {
      "text/html": [
       "<div>\n",
       "<style scoped>\n",
       "    .dataframe tbody tr th:only-of-type {\n",
       "        vertical-align: middle;\n",
       "    }\n",
       "\n",
       "    .dataframe tbody tr th {\n",
       "        vertical-align: top;\n",
       "    }\n",
       "\n",
       "    .dataframe thead th {\n",
       "        text-align: right;\n",
       "    }\n",
       "</style>\n",
       "<table border=\"1\" class=\"dataframe\">\n",
       "  <thead>\n",
       "    <tr style=\"text-align: right;\">\n",
       "      <th></th>\n",
       "      <th>ox_code</th>\n",
       "      <th>src_code</th>\n",
       "      <th>population</th>\n",
       "      <th>country</th>\n",
       "      <th>location</th>\n",
       "      <th>site</th>\n",
       "      <th>contributor</th>\n",
       "      <th>contact</th>\n",
       "      <th>year</th>\n",
       "      <th>m_s</th>\n",
       "      <th>sex</th>\n",
       "      <th>n_sequences</th>\n",
       "      <th>mean_coverage</th>\n",
       "      <th>ebi_sample_acc</th>\n",
       "      <th>latitude</th>\n",
       "      <th>longitude</th>\n",
       "    </tr>\n",
       "  </thead>\n",
       "  <tbody>\n",
       "    <tr>\n",
       "      <th>0</th>\n",
       "      <td>AA0040-C</td>\n",
       "      <td>Twifo_Praso__E2</td>\n",
       "      <td>GHcol</td>\n",
       "      <td>Ghana</td>\n",
       "      <td>Twifo Praso</td>\n",
       "      <td>Twifo Praso</td>\n",
       "      <td>David Weetman</td>\n",
       "      <td>David Weetman</td>\n",
       "      <td>2012</td>\n",
       "      <td>M</td>\n",
       "      <td>F</td>\n",
       "      <td>95033368</td>\n",
       "      <td>30.99</td>\n",
       "      <td>ERS311878</td>\n",
       "      <td>5.60858</td>\n",
       "      <td>-1.54926</td>\n",
       "    </tr>\n",
       "    <tr>\n",
       "      <th>1</th>\n",
       "      <td>AA0041-C</td>\n",
       "      <td>Twifo_Praso__H3</td>\n",
       "      <td>GHcol</td>\n",
       "      <td>Ghana</td>\n",
       "      <td>Twifo Praso</td>\n",
       "      <td>Twifo Praso</td>\n",
       "      <td>David Weetman</td>\n",
       "      <td>David Weetman</td>\n",
       "      <td>2012</td>\n",
       "      <td>M</td>\n",
       "      <td>F</td>\n",
       "      <td>95843804</td>\n",
       "      <td>31.70</td>\n",
       "      <td>ERS311886</td>\n",
       "      <td>5.60858</td>\n",
       "      <td>-1.54926</td>\n",
       "    </tr>\n",
       "    <tr>\n",
       "      <th>2</th>\n",
       "      <td>AA0042-C</td>\n",
       "      <td>Takoradi_C7</td>\n",
       "      <td>GHcol</td>\n",
       "      <td>Ghana</td>\n",
       "      <td>Takoradi</td>\n",
       "      <td>Takoradi</td>\n",
       "      <td>David Weetman</td>\n",
       "      <td>David Weetman</td>\n",
       "      <td>2012</td>\n",
       "      <td>M</td>\n",
       "      <td>F</td>\n",
       "      <td>107420666</td>\n",
       "      <td>35.65</td>\n",
       "      <td>ERS311894</td>\n",
       "      <td>4.91217</td>\n",
       "      <td>-1.77397</td>\n",
       "    </tr>\n",
       "    <tr>\n",
       "      <th>3</th>\n",
       "      <td>AA0043-C</td>\n",
       "      <td>Takoradi_H8</td>\n",
       "      <td>GHcol</td>\n",
       "      <td>Ghana</td>\n",
       "      <td>Takoradi</td>\n",
       "      <td>Takoradi</td>\n",
       "      <td>David Weetman</td>\n",
       "      <td>David Weetman</td>\n",
       "      <td>2012</td>\n",
       "      <td>M</td>\n",
       "      <td>F</td>\n",
       "      <td>95993752</td>\n",
       "      <td>29.46</td>\n",
       "      <td>ERS311902</td>\n",
       "      <td>4.91217</td>\n",
       "      <td>-1.77397</td>\n",
       "    </tr>\n",
       "    <tr>\n",
       "      <th>4</th>\n",
       "      <td>AA0044-C</td>\n",
       "      <td>Takoradi_D10</td>\n",
       "      <td>GHcol</td>\n",
       "      <td>Ghana</td>\n",
       "      <td>Takoradi</td>\n",
       "      <td>Takoradi</td>\n",
       "      <td>David Weetman</td>\n",
       "      <td>David Weetman</td>\n",
       "      <td>2012</td>\n",
       "      <td>M</td>\n",
       "      <td>F</td>\n",
       "      <td>103044262</td>\n",
       "      <td>33.67</td>\n",
       "      <td>ERS311910</td>\n",
       "      <td>4.91217</td>\n",
       "      <td>-1.77397</td>\n",
       "    </tr>\n",
       "  </tbody>\n",
       "</table>\n",
       "</div>"
      ],
      "text/plain": [
       "    ox_code         src_code population country     location         site  \\\n",
       "0  AA0040-C  Twifo_Praso__E2      GHcol   Ghana  Twifo Praso  Twifo Praso   \n",
       "1  AA0041-C  Twifo_Praso__H3      GHcol   Ghana  Twifo Praso  Twifo Praso   \n",
       "2  AA0042-C      Takoradi_C7      GHcol   Ghana     Takoradi     Takoradi   \n",
       "3  AA0043-C      Takoradi_H8      GHcol   Ghana     Takoradi     Takoradi   \n",
       "4  AA0044-C     Takoradi_D10      GHcol   Ghana     Takoradi     Takoradi   \n",
       "\n",
       "     contributor        contact  year m_s sex  n_sequences  mean_coverage  \\\n",
       "0  David Weetman  David Weetman  2012   M   F     95033368          30.99   \n",
       "1  David Weetman  David Weetman  2012   M   F     95843804          31.70   \n",
       "2  David Weetman  David Weetman  2012   M   F    107420666          35.65   \n",
       "3  David Weetman  David Weetman  2012   M   F     95993752          29.46   \n",
       "4  David Weetman  David Weetman  2012   M   F    103044262          33.67   \n",
       "\n",
       "  ebi_sample_acc  latitude  longitude  \n",
       "0      ERS311878   5.60858   -1.54926  \n",
       "1      ERS311886   5.60858   -1.54926  \n",
       "2      ERS311894   4.91217   -1.77397  \n",
       "3      ERS311902   4.91217   -1.77397  \n",
       "4      ERS311910   4.91217   -1.77397  "
      ]
     },
     "execution_count": 7,
     "metadata": {},
     "output_type": "execute_result"
    }
   ],
   "source": [
    "# load sample metadata\n",
    "df_samples = cat.ag2.samples.read()\n",
    "df_samples.head()"
   ]
  },
  {
   "cell_type": "markdown",
   "metadata": {},
   "source": [
    "## Subset data"
   ]
  },
  {
   "cell_type": "markdown",
   "metadata": {},
   "source": [
    "### Locate pass variants"
   ]
  },
  {
   "cell_type": "code",
   "execution_count": 8,
   "metadata": {},
   "outputs": [
    {
     "data": {
      "text/plain": [
       "array([ True,  True,  True, ...,  True,  True,  True])"
      ]
     },
     "execution_count": 8,
     "metadata": {},
     "output_type": "execute_result"
    }
   ],
   "source": [
    "loc_pass_variants = callset['3R/variants/FILTER_PASS'][:]\n",
    "loc_pass_variants"
   ]
  },
  {
   "cell_type": "code",
   "execution_count": 9,
   "metadata": {},
   "outputs": [
    {
     "data": {
      "text/plain": [
       "14481509"
      ]
     },
     "execution_count": 9,
     "metadata": {},
     "output_type": "execute_result"
    }
   ],
   "source": [
    "np.count_nonzero(loc_pass_variants)"
   ]
  },
  {
   "cell_type": "markdown",
   "metadata": {},
   "source": [
    "### Locate samples in population"
   ]
  },
  {
   "cell_type": "code",
   "execution_count": 10,
   "metadata": {},
   "outputs": [],
   "source": [
    "pop = 'BFgam'"
   ]
  },
  {
   "cell_type": "code",
   "execution_count": 11,
   "metadata": {},
   "outputs": [
    {
     "data": {
      "text/plain": [
       "array([ 67,  81,  82,  83,  91,  92,  93,  97,  98,  99, 100, 101, 102,\n",
       "       103, 104, 105, 111, 112, 113, 114, 115, 116, 117, 118, 119, 120,\n",
       "       121, 122, 123, 124, 125, 126, 127, 128, 129, 130, 131, 132, 133,\n",
       "       134, 135, 136, 137, 138, 139, 140, 155, 156, 157, 158, 159, 160,\n",
       "       161, 163, 164, 165, 166, 169, 173, 174, 182, 184, 185, 186, 188,\n",
       "       189, 191, 192, 194, 197, 203, 204, 205, 206, 207, 210, 211, 214,\n",
       "       215, 218, 219, 220, 221, 222, 223, 224, 226, 227, 229, 230, 232,\n",
       "       233])"
      ]
     },
     "execution_count": 11,
     "metadata": {},
     "output_type": "execute_result"
    }
   ],
   "source": [
    "loc_pop_samples = df_samples[df_samples.population == pop].index.values\n",
    "loc_pop_samples"
   ]
  },
  {
   "cell_type": "code",
   "execution_count": 12,
   "metadata": {},
   "outputs": [
    {
     "data": {
      "text/plain": [
       "92"
      ]
     },
     "execution_count": 12,
     "metadata": {},
     "output_type": "execute_result"
    }
   ],
   "source": [
    "len(loc_pop_samples)"
   ]
  },
  {
   "cell_type": "code",
   "execution_count": 13,
   "metadata": {},
   "outputs": [
    {
     "data": {
      "text/html": [
       "<div class=\"allel allel-DisplayAs2D\"><span>&lt;GenotypeDaskArray shape=(14481509, 92, 2) dtype=int8&gt;</span><table><thead><tr><th></th><th style=\"text-align: center\">0</th><th style=\"text-align: center\">1</th><th style=\"text-align: center\">2</th><th style=\"text-align: center\">3</th><th style=\"text-align: center\">4</th><th style=\"text-align: center\">...</th><th style=\"text-align: center\">87</th><th style=\"text-align: center\">88</th><th style=\"text-align: center\">89</th><th style=\"text-align: center\">90</th><th style=\"text-align: center\">91</th></tr></thead><tbody><tr><th style=\"text-align: center; background-color: white; border-right: 1px solid black; \">0</th><td style=\"text-align: center\">0/0</td><td style=\"text-align: center\">0/0</td><td style=\"text-align: center\">0/0</td><td style=\"text-align: center\">0/0</td><td style=\"text-align: center\">0/0</td><td style=\"text-align: center\">...</td><td style=\"text-align: center\">0/0</td><td style=\"text-align: center\">0/0</td><td style=\"text-align: center\">0/0</td><td style=\"text-align: center\">0/0</td><td style=\"text-align: center\">0/0</td></tr><tr><th style=\"text-align: center; background-color: white; border-right: 1px solid black; \">1</th><td style=\"text-align: center\">0/0</td><td style=\"text-align: center\">0/0</td><td style=\"text-align: center\">0/0</td><td style=\"text-align: center\">0/0</td><td style=\"text-align: center\">0/0</td><td style=\"text-align: center\">...</td><td style=\"text-align: center\">0/0</td><td style=\"text-align: center\">0/0</td><td style=\"text-align: center\">0/0</td><td style=\"text-align: center\">0/0</td><td style=\"text-align: center\">0/0</td></tr><tr><th style=\"text-align: center; background-color: white; border-right: 1px solid black; \">2</th><td style=\"text-align: center\">0/0</td><td style=\"text-align: center\">0/0</td><td style=\"text-align: center\">0/0</td><td style=\"text-align: center\">0/0</td><td style=\"text-align: center\">0/0</td><td style=\"text-align: center\">...</td><td style=\"text-align: center\">0/0</td><td style=\"text-align: center\">0/0</td><td style=\"text-align: center\">0/0</td><td style=\"text-align: center\">0/0</td><td style=\"text-align: center\">0/0</td></tr><tr><th style=\"text-align: center; background-color: white; border-right: 1px solid black; \">...</th><td style=\"text-align: center\" colspan=\"12\">...</td></tr><tr><th style=\"text-align: center; background-color: white; border-right: 1px solid black; \">14481506</th><td style=\"text-align: center\">0/0</td><td style=\"text-align: center\">0/0</td><td style=\"text-align: center\">0/0</td><td style=\"text-align: center\">0/0</td><td style=\"text-align: center\">0/0</td><td style=\"text-align: center\">...</td><td style=\"text-align: center\">0/0</td><td style=\"text-align: center\">0/0</td><td style=\"text-align: center\">0/0</td><td style=\"text-align: center\">0/0</td><td style=\"text-align: center\">0/0</td></tr><tr><th style=\"text-align: center; background-color: white; border-right: 1px solid black; \">14481507</th><td style=\"text-align: center\">0/0</td><td style=\"text-align: center\">0/0</td><td style=\"text-align: center\">0/0</td><td style=\"text-align: center\">0/0</td><td style=\"text-align: center\">0/0</td><td style=\"text-align: center\">...</td><td style=\"text-align: center\">0/0</td><td style=\"text-align: center\">0/0</td><td style=\"text-align: center\">0/0</td><td style=\"text-align: center\">0/0</td><td style=\"text-align: center\">0/0</td></tr><tr><th style=\"text-align: center; background-color: white; border-right: 1px solid black; \">14481508</th><td style=\"text-align: center\">0/0</td><td style=\"text-align: center\">0/0</td><td style=\"text-align: center\">0/0</td><td style=\"text-align: center\">0/0</td><td style=\"text-align: center\">0/0</td><td style=\"text-align: center\">...</td><td style=\"text-align: center\">0/0</td><td style=\"text-align: center\">0/0</td><td style=\"text-align: center\">0/0</td><td style=\"text-align: center\">0/0</td><td style=\"text-align: center\">0/0</td></tr></tbody></table></div>"
      ],
      "text/plain": [
       "<GenotypeDaskArray shape=(14481509, 92, 2) dtype=int8>"
      ]
     },
     "execution_count": 13,
     "metadata": {},
     "output_type": "execute_result"
    }
   ],
   "source": [
    "gt_pass_pop = gt.subset(loc_pass_variants, loc_pop_samples)\n",
    "gt_pass_pop"
   ]
  },
  {
   "cell_type": "markdown",
   "metadata": {},
   "source": [
    "## Allele count computation"
   ]
  },
  {
   "cell_type": "code",
   "execution_count": 14,
   "metadata": {},
   "outputs": [
    {
     "data": {
      "text/html": [
       "<div class=\"allel allel-DisplayAs2D\"><span>&lt;AlleleCountsArray shape=(14481509, 4) dtype=int32&gt;</span><table><thead><tr><th></th><th style=\"text-align: center\">0</th><th style=\"text-align: center\">1</th><th style=\"text-align: center\">2</th><th style=\"text-align: center\">3</th></tr></thead><tbody><tr><th style=\"text-align: center; background-color: white; border-right: 1px solid black; \">0</th><td style=\"text-align: center\">184</td><td style=\"text-align: center\">  0</td><td style=\"text-align: center\">  0</td><td style=\"text-align: center\">  0</td></tr><tr><th style=\"text-align: center; background-color: white; border-right: 1px solid black; \">1</th><td style=\"text-align: center\">184</td><td style=\"text-align: center\">  0</td><td style=\"text-align: center\">  0</td><td style=\"text-align: center\">  0</td></tr><tr><th style=\"text-align: center; background-color: white; border-right: 1px solid black; \">2</th><td style=\"text-align: center\">184</td><td style=\"text-align: center\">  0</td><td style=\"text-align: center\">  0</td><td style=\"text-align: center\">  0</td></tr><tr><th style=\"text-align: center; background-color: white; border-right: 1px solid black; \">...</th><td style=\"text-align: center\" colspan=\"5\">...</td></tr><tr><th style=\"text-align: center; background-color: white; border-right: 1px solid black; \">14481506</th><td style=\"text-align: center\">184</td><td style=\"text-align: center\">  0</td><td style=\"text-align: center\">  0</td><td style=\"text-align: center\">  0</td></tr><tr><th style=\"text-align: center; background-color: white; border-right: 1px solid black; \">14481507</th><td style=\"text-align: center\">180</td><td style=\"text-align: center\">  4</td><td style=\"text-align: center\">  0</td><td style=\"text-align: center\">  0</td></tr><tr><th style=\"text-align: center; background-color: white; border-right: 1px solid black; \">14481508</th><td style=\"text-align: center\">184</td><td style=\"text-align: center\">  0</td><td style=\"text-align: center\">  0</td><td style=\"text-align: center\">  0</td></tr></tbody></table></div>"
      ],
      "text/plain": [
       "<AlleleCountsArray shape=(14481509, 4) dtype=int32>\n",
       "184   0   0   0\n",
       "184   0   0   0\n",
       "184   0   0   0\n",
       "...\n",
       "184   0   0   0\n",
       "180   4   0   0\n",
       "184   0   0   0"
      ]
     },
     "execution_count": 14,
     "metadata": {},
     "output_type": "execute_result"
    }
   ],
   "source": [
    "# watch the dask dashboard while this is computing\n",
    "ac_pass_pop = gt_pass_pop.count_alleles(max_allele=3).compute()\n",
    "ac_pass_pop"
   ]
  },
  {
   "cell_type": "code",
   "execution_count": 15,
   "metadata": {},
   "outputs": [
    {
     "data": {
      "text/plain": [
       "6022557"
      ]
     },
     "execution_count": 15,
     "metadata": {},
     "output_type": "execute_result"
    }
   ],
   "source": [
    "ac_pass_pop.count_segregating()"
   ]
  },
  {
   "cell_type": "markdown",
   "metadata": {},
   "source": [
    "## Multi-population test for selection"
   ]
  },
  {
   "cell_type": "code",
   "execution_count": 16,
   "metadata": {},
   "outputs": [],
   "source": [
    "def population_allele_counts(chrom, pop):\n",
    "    gtz = callset[chrom]['calldata/GT']\n",
    "    gt = allel.GenotypeDaskArray(gtz)\n",
    "    loc_pass_variants = callset[chrom]['variants/FILTER_PASS'][:]\n",
    "    loc_pop_samples = df_samples[df_samples.population == pop].index.values\n",
    "    print(pop, 'no. samples:', len(loc_pop_samples))\n",
    "    gt_pass_pop = gt.subset(loc_pass_variants, loc_pop_samples)\n",
    "    ac_pass_pop = gt_pass_pop.count_alleles(max_allele=3)\n",
    "    return ac_pass_pop\n",
    "\n",
    "\n",
    "def pbs(chrom, pop1, pop2, pop3, window_size=100, min_maf=0.02, normed=True):\n",
    "    \n",
    "    # load variant positions\n",
    "    loc_pass_variants = callset[chrom]['variants/FILTER_PASS'][:]\n",
    "    pos = callset[chrom]['variants/POS'][:][loc_pass_variants]\n",
    "    \n",
    "    # load allele counts\n",
    "    ac1 = population_allele_counts(chrom, pop1)\n",
    "    ac2 = population_allele_counts(chrom, pop2)\n",
    "    ac3 = population_allele_counts(chrom, pop3)\n",
    "    ac1, ac2, ac3 = da.compute(ac1, ac2, ac3)\n",
    "    ac1 = allel.AlleleCountsArray(ac1)\n",
    "    ac2 = allel.AlleleCountsArray(ac2)\n",
    "    ac3 = allel.AlleleCountsArray(ac3)\n",
    "    print('finished allele counting')\n",
    "\n",
    "    # locate segregating variants at sufficient frequency\n",
    "    ac = ac1 + ac2 + ac3\n",
    "    loc_seg = ac.is_biallelic_01() & (ac.to_frequencies()[:, :2].min(axis=1) > min_maf)\n",
    "    print('found', np.count_nonzero(loc_seg), 'segregating variants')\n",
    "    pos = pos[loc_seg]\n",
    "    ac1 = ac1[loc_seg]\n",
    "    ac2 = ac2[loc_seg]\n",
    "    ac3 = ac3[loc_seg]\n",
    "    print('finished locating segregating variants')\n",
    "    \n",
    "    # setup windows\n",
    "    starts = allel.moving_statistic(pos, statistic=lambda v: v[0], size=window_size)\n",
    "    starts[0] = 1  # fix to start of sequence\n",
    "    ends = np.append(starts[1:] - 1, [np.max(pos)])\n",
    "\n",
    "    # compute pbs\n",
    "    res = allel.pbs(ac1, ac2, ac3, window_size=window_size, normed=normed)\n",
    "    print('finished computing PBS')\n",
    "\n",
    "    return starts, ends, res\n"
   ]
  },
  {
   "cell_type": "code",
   "execution_count": 17,
   "metadata": {},
   "outputs": [
    {
     "name": "stdout",
     "output_type": "stream",
     "text": [
      "BFgam no. samples: 92\n",
      "UGgam no. samples: 112\n",
      "GW no. samples: 91\n",
      "finished allele counting\n",
      "found 1431465 segregating variants\n",
      "finished locating segregating variants\n",
      "finished computing PBS\n"
     ]
    }
   ],
   "source": [
    "# watch the dask dashboard\n",
    "starts, ends, y = pbs('3R', 'BFgam', 'UGgam', 'GW')"
   ]
  },
  {
   "cell_type": "code",
   "execution_count": 18,
   "metadata": {},
   "outputs": [
    {
     "data": {
      "image/png": "[encoded data removed]",
      "text/plain": [
       "<Figure size 1008x216 with 1 Axes>"
      ]
     },
     "metadata": {},
     "output_type": "display_data"
    }
   ],
   "source": [
    "fig, ax = plt.subplots(figsize=(14, 3), facecolor='w')\n",
    "x = (starts + ends) / 2\n",
    "ax.plot(x, y, marker='o', linestyle=' ', mfc='none', mec='k', markersize=2)\n",
    "ax.set_xlabel('Genome position (bp)')\n",
    "ax.set_ylabel('PBS');"
   ]
  },
  {
   "cell_type": "code",
   "execution_count": null,
   "metadata": {},
   "outputs": [],
   "source": []
  }
 ],
 "metadata": {
  "kernelspec": {
   "display_name": "Python 3",
   "language": "python",
   "name": "python3"
  },
  "language_info": {
   "codemirror_mode": {
    "name": "ipython",
    "version": 3
   },
   "file_extension": ".py",
   "mimetype": "text/x-python",
   "name": "python",
   "nbconvert_exporter": "python",
   "pygments_lexer": "ipython3",
   "version": "3.7.6"
  }
 },
 "nbformat": 4,
 "nbformat_minor": 4
}
